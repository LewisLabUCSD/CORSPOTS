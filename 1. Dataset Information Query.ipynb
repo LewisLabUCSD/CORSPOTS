{
 "cells": [
  {
   "cell_type": "code",
   "execution_count": 2,
   "metadata": {},
   "outputs": [],
   "source": [
    "import pandas as pd\n",
    "import pkg.query_objects as search"
   ]
  },
  {
   "cell_type": "code",
   "execution_count": 3,
   "metadata": {},
   "outputs": [],
   "source": [
    "test = search.Protein(dataset_id='Q8CJG1', uniprot_id='Q8CJG1')"
   ]
  },
  {
   "cell_type": "code",
   "execution_count": 4,
   "metadata": {},
   "outputs": [
    {
     "name": "stdout",
     "output_type": "stream",
     "text": [
      "Q8CJG1\n",
      "Q8CJG1\n",
      "Q8CJG1\n",
      "AGO1_MOUSE\n",
      "['miRNA loading onto RISC involved in gene silencing by miRNA [GO:0035280]', 'miRNA mediated inhibition of translation [GO:0035278]', 'miRNA metabolic process [GO:0010586]', 'negative regulation of angiogenesis [GO:0016525]', 'nuclear-transcribed mRNA catabolic process [GO:0000956]', 'positive regulation of gene expression [GO:0010628]', 'positive regulation of NIK/NF-kappaB signaling [GO:1901224]', 'positive regulation of transcription by RNA polymerase II [GO:0045944]', 'pre-miRNA processing [GO:0031054]', 'production of miRNAs involved in gene silencing by miRNA [GO:0035196]', 'RNA secondary structure unwinding [GO:0010501]']\n",
      "['core promoter sequence-specific DNA binding [GO:0001046]', 'double-stranded RNA binding [GO:0003725]', 'miRNA binding [GO:0035198]', 'RNA binding [GO:0003723]', 'RNA polymerase II cis-regulatory region sequence-specific DNA binding [GO:0000978]', 'RNA polymerase II complex binding [GO:0000993]', 'single-stranded RNA binding [GO:0003727]', 'transcription regulatory region sequence-specific DNA binding [GO:0000976]']\n",
      "mmu:236511\n",
      "None\n",
      "['R-MMU-203927', 'R-MMU-426486', 'R-MMU-426496']\n",
      "10090.ENSMUSP00000095498\n",
      "231767\n"
     ]
    }
   ],
   "source": [
    "print(test.dataset_id)\n",
    "print(test.uniprot_id)\n",
    "print(test.entry)\n",
    "print(test.entry_name)\n",
    "print(test.go_bp)\n",
    "print(test.go_mf)\n",
    "print(test.kegg_id)\n",
    "print(test.kegg)\n",
    "print(test.reactome)\n",
    "print(test.string_id)\n",
    "print(test.biogrid_id)"
   ]
  },
  {
   "cell_type": "code",
   "execution_count": 5,
   "metadata": {},
   "outputs": [
    {
     "data": {
      "text/html": [
       "<div>\n",
       "<style scoped>\n",
       "    .dataframe tbody tr th:only-of-type {\n",
       "        vertical-align: middle;\n",
       "    }\n",
       "\n",
       "    .dataframe tbody tr th {\n",
       "        vertical-align: top;\n",
       "    }\n",
       "\n",
       "    .dataframe thead th {\n",
       "        text-align: right;\n",
       "    }\n",
       "</style>\n",
       "<table border=\"1\" class=\"dataframe\">\n",
       "  <thead>\n",
       "    <tr style=\"text-align: right;\">\n",
       "      <th></th>\n",
       "      <th>Q9D6Y9</th>\n",
       "      <th>P62259</th>\n",
       "      <th>P61982</th>\n",
       "      <th>P63101</th>\n",
       "      <th>Q8BH00</th>\n",
       "      <th>P52760</th>\n",
       "      <th>Q8BWT1</th>\n",
       "      <th>P10852</th>\n",
       "      <th>Q9DCU9</th>\n",
       "      <th>P49429</th>\n",
       "      <th>...</th>\n",
       "      <th>P01635</th>\n",
       "      <th>F6Z9B9</th>\n",
       "      <th>Q08ED5</th>\n",
       "      <th>Q6AW46</th>\n",
       "      <th>Q6PDB7</th>\n",
       "      <th>Q8BK48</th>\n",
       "      <th>Q8QZR3</th>\n",
       "      <th>Q91WG0</th>\n",
       "      <th>Q921I1</th>\n",
       "      <th>Q9DBB8</th>\n",
       "    </tr>\n",
       "  </thead>\n",
       "  <tbody>\n",
       "    <tr>\n",
       "      <th>Plasma 0h_1</th>\n",
       "      <td>15.3152</td>\n",
       "      <td>14.5582</td>\n",
       "      <td>16.2345</td>\n",
       "      <td>15.9242</td>\n",
       "      <td>15.3425</td>\n",
       "      <td>15.5181</td>\n",
       "      <td>13.1131</td>\n",
       "      <td>18.3748</td>\n",
       "      <td>15.3881</td>\n",
       "      <td>15.7304</td>\n",
       "      <td>...</td>\n",
       "      <td>18.5051</td>\n",
       "      <td>18.6011</td>\n",
       "      <td>18.6011</td>\n",
       "      <td>18.6011</td>\n",
       "      <td>18.6011</td>\n",
       "      <td>18.6011</td>\n",
       "      <td>18.6011</td>\n",
       "      <td>18.6011</td>\n",
       "      <td>23.1840</td>\n",
       "      <td>14.6103</td>\n",
       "    </tr>\n",
       "    <tr>\n",
       "      <th>Plasma 0h_2</th>\n",
       "      <td>14.4940</td>\n",
       "      <td>14.8449</td>\n",
       "      <td>15.2106</td>\n",
       "      <td>15.5350</td>\n",
       "      <td>13.6135</td>\n",
       "      <td>13.2527</td>\n",
       "      <td>13.4021</td>\n",
       "      <td>15.8866</td>\n",
       "      <td>12.7454</td>\n",
       "      <td>15.2291</td>\n",
       "      <td>...</td>\n",
       "      <td>18.2148</td>\n",
       "      <td>14.1792</td>\n",
       "      <td>14.1792</td>\n",
       "      <td>14.1792</td>\n",
       "      <td>14.1792</td>\n",
       "      <td>14.1792</td>\n",
       "      <td>14.1792</td>\n",
       "      <td>14.1792</td>\n",
       "      <td>23.6320</td>\n",
       "      <td>13.2481</td>\n",
       "    </tr>\n",
       "    <tr>\n",
       "      <th>Plasma 0h_3</th>\n",
       "      <td>14.8361</td>\n",
       "      <td>14.9058</td>\n",
       "      <td>13.7424</td>\n",
       "      <td>14.7835</td>\n",
       "      <td>16.0991</td>\n",
       "      <td>13.0532</td>\n",
       "      <td>14.5930</td>\n",
       "      <td>19.3007</td>\n",
       "      <td>16.5039</td>\n",
       "      <td>12.7098</td>\n",
       "      <td>...</td>\n",
       "      <td>15.2959</td>\n",
       "      <td>18.3518</td>\n",
       "      <td>18.3518</td>\n",
       "      <td>18.3518</td>\n",
       "      <td>18.3518</td>\n",
       "      <td>18.3518</td>\n",
       "      <td>18.3518</td>\n",
       "      <td>18.3518</td>\n",
       "      <td>22.9864</td>\n",
       "      <td>14.1874</td>\n",
       "    </tr>\n",
       "    <tr>\n",
       "      <th>Plasma 0h_4</th>\n",
       "      <td>15.2352</td>\n",
       "      <td>14.8821</td>\n",
       "      <td>11.7031</td>\n",
       "      <td>14.0647</td>\n",
       "      <td>14.6426</td>\n",
       "      <td>15.2353</td>\n",
       "      <td>14.4082</td>\n",
       "      <td>16.9897</td>\n",
       "      <td>14.2157</td>\n",
       "      <td>15.0701</td>\n",
       "      <td>...</td>\n",
       "      <td>16.4343</td>\n",
       "      <td>18.8089</td>\n",
       "      <td>18.8089</td>\n",
       "      <td>18.8089</td>\n",
       "      <td>18.8089</td>\n",
       "      <td>18.8089</td>\n",
       "      <td>18.8089</td>\n",
       "      <td>18.8089</td>\n",
       "      <td>23.9225</td>\n",
       "      <td>13.8462</td>\n",
       "    </tr>\n",
       "    <tr>\n",
       "      <th>Plasma 6h_1</th>\n",
       "      <td>14.8392</td>\n",
       "      <td>13.6007</td>\n",
       "      <td>16.4754</td>\n",
       "      <td>14.7109</td>\n",
       "      <td>15.7095</td>\n",
       "      <td>13.4538</td>\n",
       "      <td>13.9385</td>\n",
       "      <td>18.0547</td>\n",
       "      <td>14.4113</td>\n",
       "      <td>15.4306</td>\n",
       "      <td>...</td>\n",
       "      <td>16.5836</td>\n",
       "      <td>14.7711</td>\n",
       "      <td>14.7711</td>\n",
       "      <td>14.7711</td>\n",
       "      <td>14.7711</td>\n",
       "      <td>14.7711</td>\n",
       "      <td>14.7711</td>\n",
       "      <td>14.7711</td>\n",
       "      <td>23.9672</td>\n",
       "      <td>16.2992</td>\n",
       "    </tr>\n",
       "  </tbody>\n",
       "</table>\n",
       "<p>5 rows × 658 columns</p>\n",
       "</div>"
      ],
      "text/plain": [
       "              Q9D6Y9   P62259   P61982   P63101   Q8BH00   P52760   Q8BWT1  \\\n",
       "Plasma 0h_1  15.3152  14.5582  16.2345  15.9242  15.3425  15.5181  13.1131   \n",
       "Plasma 0h_2  14.4940  14.8449  15.2106  15.5350  13.6135  13.2527  13.4021   \n",
       "Plasma 0h_3  14.8361  14.9058  13.7424  14.7835  16.0991  13.0532  14.5930   \n",
       "Plasma 0h_4  15.2352  14.8821  11.7031  14.0647  14.6426  15.2353  14.4082   \n",
       "Plasma 6h_1  14.8392  13.6007  16.4754  14.7109  15.7095  13.4538  13.9385   \n",
       "\n",
       "              P10852   Q9DCU9   P49429  ...   P01635   F6Z9B9   Q08ED5  \\\n",
       "Plasma 0h_1  18.3748  15.3881  15.7304  ...  18.5051  18.6011  18.6011   \n",
       "Plasma 0h_2  15.8866  12.7454  15.2291  ...  18.2148  14.1792  14.1792   \n",
       "Plasma 0h_3  19.3007  16.5039  12.7098  ...  15.2959  18.3518  18.3518   \n",
       "Plasma 0h_4  16.9897  14.2157  15.0701  ...  16.4343  18.8089  18.8089   \n",
       "Plasma 6h_1  18.0547  14.4113  15.4306  ...  16.5836  14.7711  14.7711   \n",
       "\n",
       "              Q6AW46   Q6PDB7   Q8BK48   Q8QZR3   Q91WG0   Q921I1   Q9DBB8  \n",
       "Plasma 0h_1  18.6011  18.6011  18.6011  18.6011  18.6011  23.1840  14.6103  \n",
       "Plasma 0h_2  14.1792  14.1792  14.1792  14.1792  14.1792  23.6320  13.2481  \n",
       "Plasma 0h_3  18.3518  18.3518  18.3518  18.3518  18.3518  22.9864  14.1874  \n",
       "Plasma 0h_4  18.8089  18.8089  18.8089  18.8089  18.8089  23.9225  13.8462  \n",
       "Plasma 6h_1  14.7711  14.7711  14.7711  14.7711  14.7711  23.9672  16.2992  \n",
       "\n",
       "[5 rows x 658 columns]"
      ]
     },
     "execution_count": 5,
     "metadata": {},
     "output_type": "execute_result"
    }
   ],
   "source": [
    "plasma_data = pd.read_csv('...', index_col=0, sep='\\t')\n",
    "plasma_data.head()"
   ]
  },
  {
   "cell_type": "code",
   "execution_count": 6,
   "metadata": {},
   "outputs": [
    {
     "name": "stdout",
     "output_type": "stream",
     "text": [
      "Processed 100 proteins\n",
      "Processed 200 proteins\n",
      "Processed 300 proteins\n",
      "Processed 400 proteins\n",
      "Processed 500 proteins\n",
      "Processed 600 proteins\n"
     ]
    }
   ],
   "source": [
    "plasma_df = search.ProteinDataset(df=plasma_data, mapped_ids=list(plasma_data.columns))"
   ]
  },
  {
   "cell_type": "code",
   "execution_count": 7,
   "metadata": {},
   "outputs": [
    {
     "data": {
      "text/plain": [
       "658"
      ]
     },
     "execution_count": 7,
     "metadata": {},
     "output_type": "execute_result"
    }
   ],
   "source": [
    "len(plasma_df.proteins)"
   ]
  },
  {
   "cell_type": "code",
   "execution_count": null,
   "metadata": {},
   "outputs": [],
   "source": []
  }
 ],
 "metadata": {
  "kernelspec": {
   "display_name": "Python 3",
   "language": "python",
   "name": "python3"
  },
  "language_info": {
   "codemirror_mode": {
    "name": "ipython",
    "version": 3
   },
   "file_extension": ".py",
   "mimetype": "text/x-python",
   "name": "python",
   "nbconvert_exporter": "python",
   "pygments_lexer": "ipython3",
   "version": "3.6.10"
  }
 },
 "nbformat": 4,
 "nbformat_minor": 4
}
