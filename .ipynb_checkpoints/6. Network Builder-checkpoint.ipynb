{
 "cells": [
  {
   "cell_type": "code",
   "execution_count": 2,
   "metadata": {},
   "outputs": [],
   "source": [
    "from pkg.query_objects import ProteinDataset\n",
    "from pkg.query_objects import Protein\n",
    "import pkg.network_builder as build\n",
    "\n",
    "import networkx as nx"
   ]
  },
  {
   "cell_type": "code",
   "execution_count": 3,
   "metadata": {},
   "outputs": [
    {
     "name": "stdout",
     "output_type": "stream",
     "text": [
      "Name: \n",
      "Type: Graph\n",
      "Number of nodes: 232\n",
      "Number of edges: 2507\n",
      "Average degree:  21.6121\n"
     ]
    }
   ],
   "source": [
    "import pickle\n",
    "with open('...', 'rb') as input_file:\n",
    "    plasma_G = pickle.load(input_file)\n",
    "print(nx.info(plasma_G))"
   ]
  },
  {
   "cell_type": "code",
   "execution_count": 4,
   "metadata": {},
   "outputs": [
    {
     "name": "stdout",
     "output_type": "stream",
     "text": [
      "Name: \n",
      "Type: Graph\n",
      "Number of nodes: 1039\n",
      "Number of edges: 10784\n",
      "Average degree:  20.7584\n"
     ]
    }
   ],
   "source": [
    "with open('...', 'rb') as input_file:\n",
    "    liver_G = pickle.load(input_file)\n",
    "print(nx.info(liver_G))"
   ]
  },
  {
   "cell_type": "code",
   "execution_count": 5,
   "metadata": {},
   "outputs": [
    {
     "name": "stdout",
     "output_type": "stream",
     "text": [
      "(19, 247)\n"
     ]
    }
   ],
   "source": [
    "with open('...', 'rb') as input_file:\n",
    "    plasma_df_filt = pickle.load(input_file)\n",
    "print(plasma_df_filt.values.shape)"
   ]
  },
  {
   "cell_type": "code",
   "execution_count": 6,
   "metadata": {},
   "outputs": [
    {
     "name": "stdout",
     "output_type": "stream",
     "text": [
      "(19, 1149)\n"
     ]
    }
   ],
   "source": [
    "with open('...', 'rb') as input_file:\n",
    "    liver_vas_df_filt = pickle.load(input_file)\n",
    "print(liver_vas_df_filt.values.shape)"
   ]
  },
  {
   "cell_type": "code",
   "execution_count": 7,
   "metadata": {},
   "outputs": [],
   "source": [
    "# add protein names to community nodes\n",
    "plasma_G = build.add_entries(plasma_G, plasma_df_filt)\n",
    "liver_G = build.add_entries(liver_G, liver_vas_df_filt)"
   ]
  },
  {
   "cell_type": "code",
   "execution_count": 8,
   "metadata": {},
   "outputs": [],
   "source": [
    "# construct integrated community network\n",
    "network = build.construct_network([plasma_G, liver_G], ['Plasma', 'Liver Vascular'])"
   ]
  },
  {
   "cell_type": "code",
   "execution_count": 9,
   "metadata": {},
   "outputs": [],
   "source": [
    "# find spearman proportion edge score\n",
    "network = build.spearman_proportions(network, [plasma_df_filt, liver_vas_df_filt], ['Plasma', 'Liver Vascular'])"
   ]
  },
  {
   "cell_type": "code",
   "execution_count": 10,
   "metadata": {},
   "outputs": [],
   "source": [
    "# find enrichment relatedness edge score\n",
    "with open('...', 'rb') as input_file:\n",
    "    kegg_db = pickle.load(input_file)\n",
    "with open('...', 'rb') as input_file:\n",
    "    reactome_db = pickle.load(input_file)\n",
    "with open('...', 'rb') as input_file:\n",
    "    go_bp_db = pickle.load(input_file)\n",
    "with open('...', 'rb') as input_file:\n",
    "    go_mf_db = pickle.load(input_file)\n",
    "\n",
    "network = build.kendall_tau_scores(network, [go_bp_db, go_mf_db, kegg_db, reactome_db], ['GOBP', 'GOMF', 'KEGG', 'REACTOME'])"
   ]
  },
  {
   "cell_type": "code",
   "execution_count": 11,
   "metadata": {},
   "outputs": [
    {
     "name": "stdout",
     "output_type": "stream",
     "text": [
      "Name: \n",
      "Type: Graph\n",
      "Number of nodes: 14\n",
      "Number of edges: 91\n",
      "Average degree:  13.0000\n"
     ]
    }
   ],
   "source": [
    "print(nx.info(network))"
   ]
  },
  {
   "cell_type": "code",
   "execution_count": 12,
   "metadata": {},
   "outputs": [
    {
     "data": {
      "text/plain": [
       "{'uniprot_ids': 117,\n",
       " 'entry_ids': 117,\n",
       " 'GOBP Sorted Enrichments': 12523,\n",
       " 'GOMF Sorted Enrichments': 4332,\n",
       " 'KEGG Sorted Enrichments': 338,\n",
       " 'REACTOME Sorted Enrichments': 1394}"
      ]
     },
     "execution_count": 12,
     "metadata": {},
     "output_type": "execute_result"
    }
   ],
   "source": [
    "dict([(k,len(v)) for k,v in network.nodes(data=True)['Plasma FC1'].items()])"
   ]
  },
  {
   "cell_type": "code",
   "execution_count": 13,
   "metadata": {},
   "outputs": [
    {
     "data": {
      "text/plain": [
       "[('Plasma FC1',\n",
       "  'Liver Vascular FC1',\n",
       "  {'spearman_proportion': 0.16143282435417267,\n",
       "   'GOBP Kendall Tau': 0.28201924907620124,\n",
       "   'GOMF Kendall Tau': 0.34116388882636023,\n",
       "   'KEGG Kendall Tau': 0.33467629911916724,\n",
       "   'REACTOME Kendall Tau': 0.17220294902345137})]"
      ]
     },
     "execution_count": 13,
     "metadata": {},
     "output_type": "execute_result"
    }
   ],
   "source": [
    "[i for i in network.edges(data=True) if i[0]=='Plasma FC1' and i[1]=='Liver Vascular FC1']"
   ]
  }
 ],
 "metadata": {
  "kernelspec": {
   "display_name": "Python 3",
   "language": "python",
   "name": "python3"
  },
  "language_info": {
   "codemirror_mode": {
    "name": "ipython",
    "version": 3
   },
   "file_extension": ".py",
   "mimetype": "text/x-python",
   "name": "python",
   "nbconvert_exporter": "python",
   "pygments_lexer": "ipython3",
   "version": "3.6.10"
  }
 },
 "nbformat": 4,
 "nbformat_minor": 4
}
