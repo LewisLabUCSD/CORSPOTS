{
 "cells": [
  {
   "cell_type": "code",
   "execution_count": null,
   "metadata": {},
   "outputs": [],
   "source": [
    "import pkg.db_construct as constructor"
   ]
  },
  {
   "cell_type": "code",
   "execution_count": null,
   "metadata": {},
   "outputs": [],
   "source": [
    "proteome_id='UP000000589'\n",
    "query_item='go(biological process)'\n",
    "split_str='; '\n",
    "db = constructor.database_dict_builder(proteome_id=proteome_id, query_item=query_item, split_str=split_str)"
   ]
  },
  {
   "cell_type": "code",
   "execution_count": null,
   "metadata": {},
   "outputs": [],
   "source": [
    "proteome_id='UP000000589'\n",
    "query_item='go(molecular function)'\n",
    "split_str='; '\n",
    "db = constructor.database_dict_builder(proteome_id=proteome_id, query_item=query_item, split_str=split_str)"
   ]
  },
  {
   "cell_type": "code",
   "execution_count": null,
   "metadata": {},
   "outputs": [],
   "source": [
    "proteome_id='UP000000589'\n",
    "query_item='database(Reactome)'\n",
    "split_str=';'\n",
    "db = constructor.database_dict_builder(proteome_id=proteome_id, query_item=query_item, split_str=split_str)"
   ]
  },
  {
   "cell_type": "code",
   "execution_count": null,
   "metadata": {},
   "outputs": [],
   "source": [
    "proteome_id='UP000000589'\n",
    "query_item='database(KEGG)'\n",
    "split_str=';'\n",
    "db = constructor.database_dict_builder_KEGG(proteome_id=proteome_id, query_item=query_item, split_str=split_str)"
   ]
  }
 ],
 "metadata": {
  "kernelspec": {
   "display_name": "Python 3",
   "language": "python",
   "name": "python3"
  },
  "language_info": {
   "codemirror_mode": {
    "name": "ipython",
    "version": 3
   },
   "file_extension": ".py",
   "mimetype": "text/x-python",
   "name": "python",
   "nbconvert_exporter": "python",
   "pygments_lexer": "ipython3",
   "version": "3.6.10"
  }
 },
 "nbformat": 4,
 "nbformat_minor": 4
}
